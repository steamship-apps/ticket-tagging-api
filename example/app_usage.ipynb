{
 "cells": [
  {
   "cell_type": "code",
   "execution_count": 67,
   "id": "b18f0e95-b2cb-44a5-bdb6-0271edde29f5",
   "metadata": {},
   "outputs": [],
   "source": [
    "import requests\n",
    "import json"
   ]
  },
  {
   "cell_type": "markdown",
   "id": "06ce1b8d-de9c-4f8d-be67-aed47d040844",
   "metadata": {},
   "source": [
    "# Example ticket-tagging-api App usage.\n",
    "\n",
    "This notebook shows how to use the ticket-tagging-api app.  It does not use the Steamship SDK to make it easier to port to other languages.\n",
    "\n",
    "Each instance of the app has its own built-in context where examples are collected, labels are stored, etc.\n",
    "\n",
    "## Prerequisites\n",
    "\n",
    "* Using this assumes that you have already created an instance of the app (this is shown with the SDK in the app_instance_creation notebook.\n",
    "* You must have the api_key associated with the deployed app instance.\n",
    "\n"
   ]
  },
  {
   "cell_type": "raw",
   "source": [],
   "metadata": {
    "collapsed": false,
    "pycharm": {
     "name": "#%% raw\n"
    }
   }
  },
  {
   "cell_type": "markdown",
   "source": [
    "## First, create a new App Instance\n",
    "\n",
    "In this particular app, think of one \"App Instance\" as one \"classifier\" that you can specialize and use.\n",
    "\n",
    "Use the `app_instance_creation.ipynb` to create an App Instance and then copy its `base_url` into the cell below:"
   ],
   "metadata": {
    "collapsed": false,
    "pycharm": {
     "name": "#%% md\n"
    }
   }
  },
  {
   "cell_type": "code",
   "execution_count": 189,
   "id": "baeaba6d-7c16-4312-bcef-961b3c6bc3a0",
   "metadata": {},
   "outputs": [],
   "source": [
    "#The base_url for the Steamship app, from the other notebook\n",
    "base_url = 'https://assembled.steamship.run/ticket-tagging-api-20220626/ticket-tagging-api-20220626/'"
   ]
  },
  {
   "cell_type": "code",
   "execution_count": 190,
   "id": "344bd3fe-d4b2-43cd-a4a8-f81990456273",
   "metadata": {},
   "outputs": [],
   "source": [
    "# Your Steamship API key.\n",
    "#\n",
    "# This has either been provided to you, or you can run:\n",
    "#\n",
    "#    npm install -g @steamship/cli\n",
    "#    ship login\n",
    "#    ship user:info\n",
    "#\n",
    "# to view it.\n",
    "api_key = \"\""
   ]
  },
  {
   "cell_type": "code",
   "execution_count": 191,
   "id": "7a1d4146-04fe-4c4e-b969-4c848bc3b0fb",
   "metadata": {},
   "outputs": [],
   "source": [
    "headers = {\"Authorization\": f\"Bearer {api_key}\"}"
   ]
  },
  {
   "cell_type": "code",
   "execution_count": 192,
   "id": "ddbfdb18-7f17-4828-8d68-937e60dd056c",
   "metadata": {},
   "outputs": [],
   "source": [
    "# Tiny wrapper for post calls of json data to the app.\n",
    "def app_call(route: str, parameters: dict):\n",
    "    return requests.post(base_url + route, headers=headers, json=parameters)"
   ]
  },
  {
   "cell_type": "markdown",
   "source": [
    "## You can always check the status of your classifier with `specialize_status`\n",
    "* A response of `UNSPECIALIZED` means the app will classify data points using a large language model which doesn't need any training.\n",
    "* A response of `SPECIALIZED` means the app will classify with a trained classifier based on a dataset you have provided."
   ],
   "metadata": {
    "collapsed": false,
    "pycharm": {
     "name": "#%% md\n"
    }
   }
  },
  {
   "cell_type": "code",
   "execution_count": 193,
   "outputs": [
    {
     "data": {
      "text/plain": "{'status': 'UNSPECIALIZED'}"
     },
     "execution_count": 193,
     "metadata": {},
     "output_type": "execute_result"
    }
   ],
   "source": [
    "# We haven't specialized our model yet, so this should return UNSPECIALIZED\n",
    "response = app_call('specialize_status', {})\n",
    "response.json()"
   ],
   "metadata": {
    "collapsed": false,
    "pycharm": {
     "name": "#%%\n"
    }
   }
  },
  {
   "cell_type": "markdown",
   "id": "4e3d5698-7f93-4237-bbe5-b96abc071680",
   "metadata": {},
   "source": [
    "## First - a toy example for demonstrating the basic API"
   ]
  },
  {
   "cell_type": "code",
   "execution_count": 194,
   "id": "53e7e648-3c5c-4583-92ae-6757b8218abb",
   "metadata": {},
   "outputs": [
    {
     "data": {
      "text/plain": "'Removed 0 examples'"
     },
     "execution_count": 194,
     "metadata": {},
     "output_type": "execute_result"
    }
   ],
   "source": [
    "# clear any previous examples\n",
    "app_call('clear_examples',{}).text"
   ]
  },
  {
   "cell_type": "code",
   "execution_count": 195,
   "id": "56ee8c3d-fae5-4abe-8858-918110338a7d",
   "metadata": {},
   "outputs": [
    {
     "data": {
      "text/plain": "'Labels accepted'"
     },
     "execution_count": 195,
     "metadata": {},
     "output_type": "execute_result"
    }
   ],
   "source": [
    "# Set the labels we'll use for classification\n",
    "response = app_call('set_labels',{'labels':['lion','tiger','elephant']})\n",
    "response.text"
   ]
  },
  {
   "cell_type": "code",
   "execution_count": 196,
   "id": "18dcd1c1-32bd-4d84-a8c1-e116dabea5c9",
   "metadata": {},
   "outputs": [
    {
     "data": {
      "text/plain": "{'tiger': 0.6951351165771484,\n 'lion': 0.6889989376068115,\n 'elephant': 0.1538177877664566}"
     },
     "execution_count": 196,
     "metadata": {},
     "output_type": "execute_result"
    }
   ],
   "source": [
    "# Try a ticket classification (no training yet, so this is zero-shot)\n",
    "response = app_call('tag_ticket',{'ticket_text':'I like big cats'})\n",
    "response.json()"
   ]
  },
  {
   "cell_type": "code",
   "execution_count": 197,
   "id": "3af57869-2d66-4059-ac96-2ae8ef3ac016",
   "metadata": {},
   "outputs": [],
   "source": [
    "# Create some example tickets\n",
    "examples = [('This is a ticket about lions.', ['lion']), ('This is a ticket about tigers.',['tiger']), ('This is a ticket about an elephant.',['elephant'])]"
   ]
  },
  {
   "cell_type": "code",
   "execution_count": 198,
   "id": "d5220606-6f9d-456e-8279-5457685c5d17",
   "metadata": {},
   "outputs": [
    {
     "name": "stdout",
     "output_type": "stream",
     "text": [
      "Example accepted\n",
      "Example accepted\n",
      "Example accepted\n"
     ]
    }
   ],
   "source": [
    "# Push the examples to the app\n",
    "for example in examples:\n",
    "    response = app_call('add_example', {'ticket_text':example[0], 'labels':example[1]})\n",
    "    print(response.text)"
   ]
  },
  {
   "cell_type": "code",
   "execution_count": 199,
   "id": "b02b754b-9cd8-4ff1-8d28-e1b59025a127",
   "metadata": {},
   "outputs": [
    {
     "data": {
      "text/plain": "{'total_examples': 3, 'label_examples': {'elephant': 1, 'lion': 1, 'tiger': 1}}"
     },
     "execution_count": 199,
     "metadata": {},
     "output_type": "execute_result"
    }
   ],
   "source": [
    "# How many examples have we added?\n",
    "response = app_call('count_examples', {})\n",
    "response.json()"
   ]
  },
  {
   "cell_type": "code",
   "execution_count": 216,
   "id": "5438e74e-8684-43d5-aa9d-d405ba45a726",
   "metadata": {},
   "outputs": [
    {
     "data": {
      "text/plain": "{'status': 'SPECIALIZATION_IN_PROGRESS'}"
     },
     "execution_count": 216,
     "metadata": {},
     "output_type": "execute_result"
    }
   ],
   "source": [
    "# We haven't specialized our model yet, so this should return UNSPECIALIZED\n",
    "response = app_call('specialize_status', {})\n",
    "response.json()"
   ]
  },
  {
   "cell_type": "code",
   "execution_count": 201,
   "id": "841aed16-206a-4284-bc81-2350351a0877",
   "metadata": {},
   "outputs": [
    {
     "data": {
      "text/plain": "'Removed 3 examples'"
     },
     "execution_count": 201,
     "metadata": {},
     "output_type": "execute_result"
    }
   ],
   "source": [
    "# Remove the three toy examples\n",
    "app_call('clear_examples',{}).text"
   ]
  },
  {
   "cell_type": "markdown",
   "id": "b59ed09e-db63-4c42-b62d-df9364a81731",
   "metadata": {},
   "source": [
    "## Now, let's attempt with real data"
   ]
  },
  {
   "cell_type": "code",
   "execution_count": 202,
   "id": "ffa30d06-c17b-4fe6-bb64-bda32b77d158",
   "metadata": {},
   "outputs": [
    {
     "data": {
      "text/plain": "2133"
     },
     "execution_count": 202,
     "metadata": {},
     "output_type": "execute_result"
    }
   ],
   "source": [
    "# Read data adapted from test dataset, stripped to just the text to be\n",
    "# tagged and lists of 'cleaned' tags (no underscores or leading or trailing spaces)\n",
    "with open('test_data.json') as data_file:\n",
    "    data = json.load(data_file)\n",
    "\n",
    "len(data)"
   ]
  },
  {
   "cell_type": "code",
   "execution_count": 203,
   "id": "49b65f4b-0e60-4d6c-8fb3-807d4ec55f45",
   "metadata": {},
   "outputs": [],
   "source": [
    "# Find all unique tag labels\n",
    "labels = list(set([label for row in data for label in row['tags']]))"
   ]
  },
  {
   "cell_type": "code",
   "execution_count": 204,
   "id": "6aacfbbc-57f4-4480-a960-0928c4dc691f",
   "metadata": {},
   "outputs": [
    {
     "data": {
      "text/plain": "'Labels accepted'"
     },
     "execution_count": 204,
     "metadata": {},
     "output_type": "execute_result"
    }
   ],
   "source": [
    "# Set the app's labels\n",
    "response = app_call('set_labels',{'labels':labels})\n",
    "response.text"
   ]
  },
  {
   "cell_type": "code",
   "execution_count": 205,
   "id": "f58847a5-97b3-4324-a789-9bb938d4697d",
   "metadata": {},
   "outputs": [
    {
     "data": {
      "text/plain": "{'non-support question': 0.7193117141723633,\n 'people': 0.7233811616897583,\n 'realtime overview': 0.2153659462928772,\n 'needs review': 0.988425076007843,\n 'alerts': 0.5230134129524231,\n 'integratons': 0.7087873220443726,\n 'closed by merge': 0.008600217290222645,\n 'spam': 0.003957767505198717,\n 'login': 0.5004848837852478,\n 'recruiting': 0.1867390275001526,\n 'feature request': 0.8226466774940491,\n 'api': 0.8333175778388977,\n 'security': 0.23934422433376312,\n 'how do i': 0.7680777907371521,\n 'performance': 0.853554368019104,\n 'self-served': 0.002928373636677861,\n 'why isn t this working': 0.6911810636520386,\n 'system credit card redaction': 0.06164867430925369,\n 'time off': 0.06952428817749023,\n 'ticket mapping/queues': 0.07419668883085251,\n 'web widget': 0.24844679236412048,\n 'assembled action needed': 0.9657627940177917,\n 'not a support issue': 0.0005713388090953231,\n 'reports': 0.5989463925361633,\n 'bug': 0.5133242607116699,\n 'alerts acknowledged': 0.9112119674682617,\n 'datadog alerts': 0.5168055891990662,\n 'scheduling': 0.06945469975471497,\n 'forecasting and staffing': 0.013277684338390827,\n 'gcal': 0.6264331340789795,\n 'datadog alerts support': 0.6092717051506042,\n 'redacted content': 0.0773429125547409,\n 'billing': 0.14297910034656525,\n 'n/a': 0.04905194044113159,\n 'automations': 0.10863900929689407,\n 'setting': 0.8402162194252014,\n 'inbound sales prospect': 0.2414204329252243,\n 'adherence': 0.9868487119674683}"
     },
     "execution_count": 205,
     "metadata": {},
     "output_type": "execute_result"
    }
   ],
   "source": [
    "# Tag an example ticket.  We haven't specialized yet, so this is zero-shot\n",
    "response = app_call('tag_ticket',{'ticket_text':data[0]['text']})\n",
    "response.json()"
   ]
  },
  {
   "cell_type": "markdown",
   "id": "af4cf886-d813-4869-9664-f0cc3585416d",
   "metadata": {},
   "source": [
    "## Next lets specialize the model\n",
    "\n",
    "There were not enough examples of all of the ticket types in the dataset, so we'll demonstrate here with only the top 10 ticket types."
   ]
  },
  {
   "cell_type": "code",
   "execution_count": 206,
   "id": "fe21d7c8-df09-4d44-8d93-dd25191c38e7",
   "metadata": {},
   "outputs": [],
   "source": [
    "top_10_tags = ['how do i',\n",
    " 'n/a',\n",
    " 'why isn t this working',\n",
    " 'not a support issue',\n",
    " 'datadog alerts support',\n",
    " 'datadog alerts',\n",
    " 'forecasting and staffing',\n",
    " 'scheduling',\n",
    " 'inbound sales prospect',\n",
    " 'people']"
   ]
  },
  {
   "cell_type": "code",
   "execution_count": 207,
   "id": "ef36839e-7eb6-40cc-b671-84b41dfb785e",
   "metadata": {},
   "outputs": [
    {
     "data": {
      "text/plain": "'Labels accepted'"
     },
     "execution_count": 207,
     "metadata": {},
     "output_type": "execute_result"
    }
   ],
   "source": [
    "# Set the labels in the app\n",
    "response = app_call('set_labels',{'labels':top_10_tags})\n",
    "response.text"
   ]
  },
  {
   "cell_type": "code",
   "execution_count": 208,
   "id": "2e5c0e70-541c-40c5-9c14-d52a0fccf72d",
   "metadata": {},
   "outputs": [],
   "source": [
    "# Create dataset with only the top tags\n",
    "top_tag_data = [dict(text=row['text'], tags=[tag for tag in row['tags'] if tag in top_10_tags]) for row in data] "
   ]
  },
  {
   "cell_type": "code",
   "execution_count": 209,
   "id": "4765a524-cb4e-4266-b9dd-3e0dcd182aad",
   "metadata": {},
   "outputs": [],
   "source": [
    "# Add examples to the app.\n",
    "#\n",
    "# NOTE:\n",
    "# This cell will take a while to run, as we're adding each example one at a time.\n",
    "for row in top_tag_data:\n",
    "    response = app_call('add_example', {'ticket_text':row['text'], 'labels':row['tags']})\n",
    "    "
   ]
  },
  {
   "cell_type": "code",
   "execution_count": 210,
   "id": "e637ca2e-5418-4969-a59f-b02c24ee9e9e",
   "metadata": {},
   "outputs": [
    {
     "data": {
      "text/plain": "{'total_examples': 1908,\n 'label_examples': {'how do i': 716,\n  'not a support issue': 255,\n  'people': 188,\n  'inbound sales prospect': 191,\n  'scheduling': 191,\n  'why isn t this working': 386,\n  'datadog alerts support': 194,\n  'forecasting and staffing': 191,\n  'n/a': 450,\n  'datadog alerts': 194}}"
     },
     "execution_count": 210,
     "metadata": {},
     "output_type": "execute_result"
    }
   ],
   "source": [
    "# Count the total examples per ticket.\n",
    "# Note the total here is less than the total in the dataset, because after filtering to the top 10 tags, some examples don't have any tags anymore.\n",
    "response = app_call('count_examples', {})\n",
    "response.json()"
   ]
  },
  {
   "cell_type": "code",
   "execution_count": 211,
   "id": "f62efdf2-f52c-447a-bfcf-1482c26cdf15",
   "metadata": {},
   "outputs": [
    {
     "data": {
      "text/plain": "'Started specialization. Please poll specialize_status'"
     },
     "execution_count": 211,
     "metadata": {},
     "output_type": "execute_result"
    }
   ],
   "source": [
    "# Start the specialization (training) process\n",
    "#\n",
    "# NOTE:\n",
    "#  - This process will take up to FIVE HOURS for full training.\n",
    "#  - During that time, you can continue using the app (via UNSPECIALIZED mode)\n",
    "#  - While specializing, the status will be reported as: `SPECIALIZATION_IN_PROGRESS`\n",
    "#\n",
    "response = app_call('start_specialize',{})\n",
    "response.text"
   ]
  },
  {
   "cell_type": "code",
   "execution_count": 229,
   "id": "3c721d62-614f-4193-9a19-82b2f71d832e",
   "metadata": {},
   "outputs": [
    {
     "data": {
      "text/plain": "{'status': 'UNSPECIALIZED'}"
     },
     "execution_count": 229,
     "metadata": {},
     "output_type": "execute_result"
    }
   ],
   "source": [
    "# Check with the app and make sure training started successfully.\n",
    "response = app_call('specialize_status', {})\n",
    "response.json()\n"
   ]
  },
  {
   "cell_type": "code",
   "execution_count": 228,
   "id": "26c140cb-1884-4db7-8e37-7c1a55eb06ef",
   "metadata": {},
   "outputs": [
    {
     "data": {
      "text/plain": "{'not a support issue': 0.0013767130440101027,\n 'n/a': 0.0007463483489118516,\n 'datadog alerts': 0.001233422663062811,\n 'why isn t this working': 0.009248224087059498,\n 'scheduling': 0.0002453002380207181,\n 'how do i': 0.22573964297771454,\n 'forecasting and staffing': 0.0004400373436510563,\n 'datadog alerts support': 0.0009663355886004865,\n 'people': 0.007066971622407436,\n 'inbound sales prospect': 0.010559424757957458}"
     },
     "execution_count": 228,
     "metadata": {},
     "output_type": "execute_result"
    }
   ],
   "source": [
    "# Can still tag tickets with zero-shot while waiting\n",
    "response = app_call('tag_ticket',{'ticket_text':'Another example ticket about Adherence'})\n",
    "response.json()"
   ]
  },
  {
   "cell_type": "code",
   "execution_count": 214,
   "id": "f5a6e318-457f-416d-b715-9f0e0db6d296",
   "metadata": {},
   "outputs": [
    {
     "data": {
      "text/plain": "{'status': 'SPECIALIZATION_IN_PROGRESS'}"
     },
     "execution_count": 214,
     "metadata": {},
     "output_type": "execute_result"
    }
   ],
   "source": [
    "# Now need to wait ~5 hours, or poll continuously\n",
    "response = app_call('specialize_status', {})\n",
    "response.json()"
   ]
  },
  {
   "cell_type": "code",
   "execution_count": 215,
   "id": "cc6635bd-5a14-4cd4-9de5-22fc8cc82a8b",
   "metadata": {},
   "outputs": [
    {
     "data": {
      "text/plain": "{'scheduling': 0.06945469975471497,\n 'datadog alerts': 0.5168055891990662,\n 'datadog alerts support': 0.6092717051506042,\n 'inbound sales prospect': 0.2414204329252243,\n 'n/a': 0.04905194044113159,\n 'why isn t this working': 0.6911810636520386,\n 'how do i': 0.7680777907371521,\n 'forecasting and staffing': 0.013277684338390827,\n 'not a support issue': 0.0005713388090953231,\n 'people': 0.7233811616897583}"
     },
     "execution_count": 215,
     "metadata": {},
     "output_type": "execute_result"
    }
   ],
   "source": [
    "# Tag an example ticket.  We've specialized, so now we're using the trained model under the hood.\n",
    "response = app_call('tag_ticket',{'ticket_text':data[0]['text']})\n",
    "response.json()"
   ]
  },
  {
   "cell_type": "code",
   "execution_count": 182,
   "outputs": [],
   "source": [],
   "metadata": {
    "collapsed": false,
    "pycharm": {
     "name": "#%%\n"
    }
   }
  },
  {
   "cell_type": "code",
   "execution_count": null,
   "outputs": [],
   "source": [],
   "metadata": {
    "collapsed": false,
    "pycharm": {
     "name": "#%%\n"
    }
   }
  }
 ],
 "metadata": {
  "kernelspec": {
   "display_name": "Python 3 (ipykernel)",
   "language": "python",
   "name": "python3"
  },
  "language_info": {
   "codemirror_mode": {
    "name": "ipython",
    "version": 3
   },
   "file_extension": ".py",
   "mimetype": "text/x-python",
   "name": "python",
   "nbconvert_exporter": "python",
   "pygments_lexer": "ipython3",
   "version": "3.9.13"
  }
 },
 "nbformat": 4,
 "nbformat_minor": 5
}