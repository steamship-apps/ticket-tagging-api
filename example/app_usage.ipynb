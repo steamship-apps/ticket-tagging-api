{
 "cells": [
  {
   "cell_type": "code",
   "execution_count": 238,
   "id": "b18f0e95-b2cb-44a5-bdb6-0271edde29f5",
   "metadata": {},
   "outputs": [],
   "source": [
    "import requests\n",
    "import json"
   ]
  },
  {
   "cell_type": "markdown",
   "id": "06ce1b8d-de9c-4f8d-be67-aed47d040844",
   "metadata": {},
   "source": [
    "# Example ticket-tagging-api App usage.\n",
    "\n",
    "This notebook shows how to use the ticket-tagging-api app.  It does not use the Steamship SDK to make it easier to port to other languages.\n",
    "\n",
    "Each instance of the app has its own built-in context where examples are collected, labels are stored, etc.\n",
    "\n",
    "## Prerequisites\n",
    "\n",
    "* Using this assumes that you have already created an instance of the app (this is shown with the SDK in the app_instance_creation notebook.\n",
    "* You must have the api_key associated with the deployed app instance.\n",
    "\n"
   ]
  },
  {
   "cell_type": "code",
   "execution_count": 239,
   "id": "baeaba6d-7c16-4312-bcef-961b3c6bc3a0",
   "metadata": {},
   "outputs": [],
   "source": [
    "#The base_url for the Steamship app, from the other notebook\n",
    "base_url = 'http://host.docker.internal:8081/@dev/ticket-tagging-api-20220613/ticket-tagging-api-20220613/'"
   ]
  },
  {
   "cell_type": "code",
   "execution_count": 240,
   "id": "344bd3fe-d4b2-43cd-a4a8-f81990456273",
   "metadata": {},
   "outputs": [],
   "source": [
    "# Your Steamship API key.\n",
    "api_key = \"CHANGEME\""
   ]
  },
  {
   "cell_type": "code",
   "execution_count": 241,
   "id": "7a1d4146-04fe-4c4e-b969-4c848bc3b0fb",
   "metadata": {},
   "outputs": [],
   "source": [
    "headers = {\"Authorization\": f\"Bearer {api_key}\"}"
   ]
  },
  {
   "cell_type": "code",
   "execution_count": 242,
   "id": "ddbfdb18-7f17-4828-8d68-937e60dd056c",
   "metadata": {},
   "outputs": [],
   "source": [
    "# Tiny wrapper for post calls of json data to the app.\n",
    "def app_call(route: str, parameters: dict):\n",
    "    return requests.post(base_url + route, headers=headers, json=parameters)"
   ]
  },
  {
   "cell_type": "markdown",
   "id": "4e3d5698-7f93-4237-bbe5-b96abc071680",
   "metadata": {},
   "source": [
    "## First - a toy example for demonstrating the basic API"
   ]
  },
  {
   "cell_type": "code",
   "execution_count": 243,
   "id": "53e7e648-3c5c-4583-92ae-6757b8218abb",
   "metadata": {},
   "outputs": [
    {
     "data": {
      "text/plain": [
       "'Removed 1908 examples'"
      ]
     },
     "execution_count": 243,
     "metadata": {},
     "output_type": "execute_result"
    }
   ],
   "source": [
    "#clear any previous examples\n",
    "app_call('clear_examples',{}).text"
   ]
  },
  {
   "cell_type": "code",
   "execution_count": 244,
   "id": "56ee8c3d-fae5-4abe-8858-918110338a7d",
   "metadata": {},
   "outputs": [
    {
     "data": {
      "text/plain": [
       "'Labels accepted'"
      ]
     },
     "execution_count": 244,
     "metadata": {},
     "output_type": "execute_result"
    }
   ],
   "source": [
    "# Set the labels we'll use\n",
    "response = app_call('set_labels',{'labels':['lion','tiger','elephant']})\n",
    "response.text"
   ]
  },
  {
   "cell_type": "code",
   "execution_count": 246,
   "id": "18dcd1c1-32bd-4d84-a8c1-e116dabea5c9",
   "metadata": {},
   "outputs": [
    {
     "data": {
      "text/plain": [
       "{'tiger': 0.6951355934143066,\n",
       " 'lion': 0.6889989972114563,\n",
       " 'elephant': 0.1538180708885193}"
      ]
     },
     "execution_count": 246,
     "metadata": {},
     "output_type": "execute_result"
    }
   ],
   "source": [
    "# Try a ticket classification (no training yet, so this is zero-shot)\n",
    "response = app_call('tag_ticket',{'ticket_text':'I like big cats'})\n",
    "response.json()"
   ]
  },
  {
   "cell_type": "code",
   "execution_count": 247,
   "id": "3af57869-2d66-4059-ac96-2ae8ef3ac016",
   "metadata": {},
   "outputs": [],
   "source": [
    "# Create some example tickets\n",
    "examples = [('This is a ticket about lions.', ['lion']), ('This is a ticket about tigers.',['tiger']), ('This is a ticket about an elephant.',['elephant'])]"
   ]
  },
  {
   "cell_type": "code",
   "execution_count": 248,
   "id": "d5220606-6f9d-456e-8279-5457685c5d17",
   "metadata": {},
   "outputs": [
    {
     "name": "stdout",
     "output_type": "stream",
     "text": [
      "Example accepted\n",
      "Example accepted\n",
      "Example accepted\n"
     ]
    }
   ],
   "source": [
    "# Push the examples to the app\n",
    "for example in examples:\n",
    "    response = app_call('add_example', {'ticket_text':example[0], 'labels':example[1]})\n",
    "    print(response.text)"
   ]
  },
  {
   "cell_type": "code",
   "execution_count": 249,
   "id": "b02b754b-9cd8-4ff1-8d28-e1b59025a127",
   "metadata": {},
   "outputs": [
    {
     "data": {
      "text/plain": [
       "{'label_examples': {'tiger': 1, 'lion': 1, 'elephant': 1}, 'total_examples': 3}"
      ]
     },
     "execution_count": 249,
     "metadata": {},
     "output_type": "execute_result"
    }
   ],
   "source": [
    "# How many examples have we added?\n",
    "response = app_call('count_examples', {})\n",
    "response.json()"
   ]
  },
  {
   "cell_type": "code",
   "execution_count": 250,
   "id": "5438e74e-8684-43d5-aa9d-d405ba45a726",
   "metadata": {},
   "outputs": [
    {
     "data": {
      "text/plain": [
       "{'status': 'UNSPECIALIZED'}"
      ]
     },
     "execution_count": 250,
     "metadata": {},
     "output_type": "execute_result"
    }
   ],
   "source": [
    "# We haven't specialized our model yet, so this should return UNSPECIALIZED\n",
    "response = app_call('specialize_status', {})\n",
    "response.json()"
   ]
  },
  {
   "cell_type": "code",
   "execution_count": 251,
   "id": "841aed16-206a-4284-bc81-2350351a0877",
   "metadata": {},
   "outputs": [
    {
     "data": {
      "text/plain": [
       "'Removed 3 examples'"
      ]
     },
     "execution_count": 251,
     "metadata": {},
     "output_type": "execute_result"
    }
   ],
   "source": [
    "# Remove the three toy examples\n",
    "app_call('clear_examples',{}).text"
   ]
  },
  {
   "cell_type": "markdown",
   "id": "b59ed09e-db63-4c42-b62d-df9364a81731",
   "metadata": {},
   "source": [
    "## Now, let's attempt with real data"
   ]
  },
  {
   "cell_type": "code",
   "execution_count": 252,
   "id": "ffa30d06-c17b-4fe6-bb64-bda32b77d158",
   "metadata": {},
   "outputs": [
    {
     "data": {
      "text/plain": [
       "2133"
      ]
     },
     "execution_count": 252,
     "metadata": {},
     "output_type": "execute_result"
    }
   ],
   "source": [
    "# Read data adapted from test dataset, stripped to just the text to be tagged and lists of 'cleaned' tags (no underscores or leading or trailing spaces)\n",
    "with open('test_data.json') as data_file:\n",
    "    data = json.load(data_file)\n",
    "    \n",
    "len(data)"
   ]
  },
  {
   "cell_type": "code",
   "execution_count": 253,
   "id": "49b65f4b-0e60-4d6c-8fb3-807d4ec55f45",
   "metadata": {},
   "outputs": [],
   "source": [
    "# Find all unique tag labels\n",
    "labels = list(set([label for row in data for label in row['tags']]))"
   ]
  },
  {
   "cell_type": "code",
   "execution_count": 254,
   "id": "6aacfbbc-57f4-4480-a960-0928c4dc691f",
   "metadata": {},
   "outputs": [
    {
     "data": {
      "text/plain": [
       "'Labels accepted'"
      ]
     },
     "execution_count": 254,
     "metadata": {},
     "output_type": "execute_result"
    }
   ],
   "source": [
    "# Set the app's labels\n",
    "response = app_call('set_labels',{'labels':labels})\n",
    "response.text"
   ]
  },
  {
   "cell_type": "code",
   "execution_count": 255,
   "id": "f58847a5-97b3-4324-a789-9bb938d4697d",
   "metadata": {},
   "outputs": [
    {
     "data": {
      "text/plain": [
       "{'alerts acknowledged': 0.9112120270729065,\n",
       " 'login': 0.5004827976226807,\n",
       " 'redacted content': 0.07734347134828568,\n",
       " 'realtime overview': 0.21536551415920258,\n",
       " 'how do i': 0.7680781483650208,\n",
       " 'integratons': 0.7087875008583069,\n",
       " 'scheduling': 0.06945476680994034,\n",
       " 'spam': 0.003957747947424652,\n",
       " 'people': 0.7233816385269165,\n",
       " 'n/a': 0.049051716923713684,\n",
       " 'ticket mapping/queues': 0.07419610023498532,\n",
       " 'self-served': 0.0029283713083714247,\n",
       " 'automations': 0.10863953828811646,\n",
       " 'needs review': 0.988425076007843,\n",
       " 'closed by merge': 0.00860019400715828,\n",
       " 'performance': 0.8535534143447876,\n",
       " 'security': 0.23934194445610046,\n",
       " 'api': 0.8333168625831604,\n",
       " 'web widget': 0.248447448015213,\n",
       " 'bug': 0.5133253335952759,\n",
       " 'assembled action needed': 0.9657626152038574,\n",
       " 'feature request': 0.8226450681686401,\n",
       " 'alerts': 0.5230124592781067,\n",
       " 'inbound sales prospect': 0.24141883850097656,\n",
       " 'why isn t this working': 0.6911829113960266,\n",
       " 'gcal': 0.6264333724975586,\n",
       " 'reports': 0.5989434719085693,\n",
       " 'forecasting and staffing': 0.013277530670166016,\n",
       " 'non-support question': 0.7193117737770081,\n",
       " 'billing': 0.14298178255558014,\n",
       " 'time off': 0.06952527165412903,\n",
       " 'recruiting': 0.18673770129680634,\n",
       " 'datadog alerts': 0.5168042778968811,\n",
       " 'datadog alerts support': 0.6092714071273804,\n",
       " 'adherence': 0.9868486523628235,\n",
       " 'not a support issue': 0.0005713420105166731,\n",
       " 'setting': 0.8402149081230164,\n",
       " 'system credit card redaction': 0.06164844334125517}"
      ]
     },
     "execution_count": 255,
     "metadata": {},
     "output_type": "execute_result"
    }
   ],
   "source": [
    "# Tag an example ticket.  We haven't specialized yet, so this is zero-shot\n",
    "response = app_call('tag_ticket',{'ticket_text':data[0]['text']})\n",
    "response.json()"
   ]
  },
  {
   "cell_type": "markdown",
   "id": "af4cf886-d813-4869-9664-f0cc3585416d",
   "metadata": {},
   "source": [
    "## Next lets specialize the model\n",
    "\n",
    "There were not enough examples of all of the ticket types in the dataset, so we'll demonstrate here with only the top 10 ticket types."
   ]
  },
  {
   "cell_type": "code",
   "execution_count": 256,
   "id": "fe21d7c8-df09-4d44-8d93-dd25191c38e7",
   "metadata": {},
   "outputs": [],
   "source": [
    "top_10_tags = ['how do i',\n",
    " 'n/a',\n",
    " 'why isn t this working',\n",
    " 'not a support issue',\n",
    " 'datadog alerts support',\n",
    " 'datadog alerts',\n",
    " 'forecasting and staffing',\n",
    " 'scheduling',\n",
    " 'inbound sales prospect',\n",
    " 'people']"
   ]
  },
  {
   "cell_type": "code",
   "execution_count": 257,
   "id": "ef36839e-7eb6-40cc-b671-84b41dfb785e",
   "metadata": {},
   "outputs": [
    {
     "data": {
      "text/plain": [
       "'Labels accepted'"
      ]
     },
     "execution_count": 257,
     "metadata": {},
     "output_type": "execute_result"
    }
   ],
   "source": [
    "# Set the labels in the app\n",
    "response = app_call('set_labels',{'labels':top_10_tags})\n",
    "response.text"
   ]
  },
  {
   "cell_type": "code",
   "execution_count": 258,
   "id": "2e5c0e70-541c-40c5-9c14-d52a0fccf72d",
   "metadata": {},
   "outputs": [],
   "source": [
    "# Create dataset with only the top tags\n",
    "top_tag_data = [dict(text=row['text'], tags=[tag for tag in row['tags'] if tag in top_10_tags]) for row in data] "
   ]
  },
  {
   "cell_type": "code",
   "execution_count": 259,
   "id": "4765a524-cb4e-4266-b9dd-3e0dcd182aad",
   "metadata": {},
   "outputs": [],
   "source": [
    "# Add examples to the app\n",
    "for row in top_tag_data:\n",
    "    response = app_call('add_example', {'ticket_text':row['text'], 'labels':row['tags']})\n",
    "    "
   ]
  },
  {
   "cell_type": "code",
   "execution_count": 260,
   "id": "e637ca2e-5418-4969-a59f-b02c24ee9e9e",
   "metadata": {},
   "outputs": [
    {
     "data": {
      "text/plain": [
       "{'label_examples': {'people': 188,\n",
       "  'not a support issue': 255,\n",
       "  'inbound sales prospect': 191,\n",
       "  'datadog alerts support': 194,\n",
       "  'forecasting and staffing': 191,\n",
       "  'why isn t this working': 386,\n",
       "  'scheduling': 191,\n",
       "  'how do i': 716,\n",
       "  'n/a': 450,\n",
       "  'datadog alerts': 194},\n",
       " 'total_examples': 1908}"
      ]
     },
     "execution_count": 260,
     "metadata": {},
     "output_type": "execute_result"
    }
   ],
   "source": [
    "# Count the total examples per ticket.  Note the total here is less than the total in the dataset, because after filtering to the top 10 tags, some examples don't have any tags anymore.\n",
    "response = app_call('count_examples', {})\n",
    "response.json()"
   ]
  },
  {
   "cell_type": "code",
   "execution_count": 261,
   "id": "f62efdf2-f52c-447a-bfcf-1482c26cdf15",
   "metadata": {},
   "outputs": [
    {
     "data": {
      "text/plain": [
       "'Started specialization. Please poll specialize_status'"
      ]
     },
     "execution_count": 261,
     "metadata": {},
     "output_type": "execute_result"
    }
   ],
   "source": [
    "#Start the specialization (training) process\n",
    "response = app_call('start_specialize',{})\n",
    "response.text"
   ]
  },
  {
   "cell_type": "code",
   "execution_count": 262,
   "id": "3c721d62-614f-4193-9a19-82b2f71d832e",
   "metadata": {},
   "outputs": [
    {
     "data": {
      "text/plain": [
       "{'status': 'SPECIALIZATION_IN_PROGRESS'}"
      ]
     },
     "execution_count": 262,
     "metadata": {},
     "output_type": "execute_result"
    }
   ],
   "source": [
    "# Check with the app and make sure training started successfully.\n",
    "response = app_call('specialize_status', {})\n",
    "response.json()"
   ]
  },
  {
   "cell_type": "code",
   "execution_count": 263,
   "id": "26c140cb-1884-4db7-8e37-7c1a55eb06ef",
   "metadata": {},
   "outputs": [
    {
     "data": {
      "text/plain": [
       "{'not a support issue': 0.0013767160708084702,\n",
       " 'datadog alerts': 0.0012334269704297185,\n",
       " 'people': 0.007066965103149414,\n",
       " 'datadog alerts support': 0.0009663285454735157,\n",
       " 'forecasting and staffing': 0.0004400350444484502,\n",
       " 'why isn t this working': 0.009248231537640098,\n",
       " 'scheduling': 0.0002453009074088185,\n",
       " 'how do i': 0.22574004530906677,\n",
       " 'inbound sales prospect': 0.010559393092989922,\n",
       " 'n/a': 0.0007463498623110354}"
      ]
     },
     "execution_count": 263,
     "metadata": {},
     "output_type": "execute_result"
    }
   ],
   "source": [
    "# Can still tag tickets with zero-shot while waiting\n",
    "response = app_call('tag_ticket',{'ticket_text':'Another example ticket about Adherence'})\n",
    "response.json()"
   ]
  },
  {
   "cell_type": "code",
   "execution_count": 268,
   "id": "f5a6e318-457f-416d-b715-9f0e0db6d296",
   "metadata": {},
   "outputs": [
    {
     "data": {
      "text/plain": [
       "{'status': 'SPECIALIZED'}"
      ]
     },
     "execution_count": 268,
     "metadata": {},
     "output_type": "execute_result"
    }
   ],
   "source": [
    "# Now need to wait ~5 hours, or poll continuously\n",
    "response = app_call('specialize_status', {})\n",
    "response.json()"
   ]
  },
  {
   "cell_type": "code",
   "execution_count": 269,
   "id": "cc6635bd-5a14-4cd4-9de5-22fc8cc82a8b",
   "metadata": {},
   "outputs": [
    {
     "data": {
      "text/plain": [
       "{'not a support issue': 0.013251291587948804,\n",
       " 'people': 0.024483805522322655,\n",
       " 'how do i': 0.2636350095272064,\n",
       " 'datadog alerts support': 0.00026704734773375083,\n",
       " 'forecasting and staffing': 0.057214416563510916,\n",
       " 'why isn t this working': 0.19870997965335846,\n",
       " 'scheduling': 0.01933469437062741,\n",
       " 'datadog alerts': 0.00033931879443116497,\n",
       " 'inbound sales prospect': 0.008816328831017017,\n",
       " 'n/a': 0.028928974643349648}"
      ]
     },
     "execution_count": 269,
     "metadata": {},
     "output_type": "execute_result"
    }
   ],
   "source": [
    "# Tag an example ticket.  We've specialized, so now we're using the trained model under the hood.\n",
    "response = app_call('tag_ticket',{'ticket_text':data[0]['text']})\n",
    "response.json()"
   ]
  }
 ],
 "metadata": {
  "kernelspec": {
   "display_name": "Python 3 (ipykernel)",
   "language": "python",
   "name": "python3"
  },
  "language_info": {
   "codemirror_mode": {
    "name": "ipython",
    "version": 3
   },
   "file_extension": ".py",
   "mimetype": "text/x-python",
   "name": "python",
   "nbconvert_exporter": "python",
   "pygments_lexer": "ipython3",
   "version": "3.9.13"
  }
 },
 "nbformat": 4,
 "nbformat_minor": 5
}
