{
 "cells": [
  {
   "cell_type": "code",
   "execution_count": 207,
   "id": "b18f0e95-b2cb-44a5-bdb6-0271edde29f5",
   "metadata": {},
   "outputs": [],
   "source": [
    "import requests\n",
    "import json"
   ]
  },
  {
   "cell_type": "code",
   "execution_count": 208,
   "id": "baeaba6d-7c16-4312-bcef-961b3c6bc3a0",
   "metadata": {},
   "outputs": [],
   "source": [
    "base_url = 'http://host.docker.internal:8081/@dev/ticket-tagging-api-20220613/ticket-tagging-api-20220613/'"
   ]
  },
  {
   "cell_type": "code",
   "execution_count": 209,
   "id": "344bd3fe-d4b2-43cd-a4a8-f81990456273",
   "metadata": {},
   "outputs": [],
   "source": [
    "api_key = \"CHANGEME\""
   ]
  },
  {
   "cell_type": "code",
   "execution_count": 210,
   "id": "7a1d4146-04fe-4c4e-b969-4c848bc3b0fb",
   "metadata": {},
   "outputs": [],
   "source": [
    "headers = {\"Authorization\": f\"Bearer {api_key}\"}"
   ]
  },
  {
   "cell_type": "code",
   "execution_count": 211,
   "id": "ddbfdb18-7f17-4828-8d68-937e60dd056c",
   "metadata": {},
   "outputs": [],
   "source": [
    "def app_call(route: str, parameters: dict):\n",
    "    return requests.post(base_url + route, headers=headers, json=parameters)"
   ]
  },
  {
   "cell_type": "code",
   "execution_count": 212,
   "id": "53e7e648-3c5c-4583-92ae-6757b8218abb",
   "metadata": {},
   "outputs": [
    {
     "data": {
      "text/plain": [
       "'Removed 0 examples'"
      ]
     },
     "execution_count": 212,
     "metadata": {},
     "output_type": "execute_result"
    }
   ],
   "source": [
    "app_call('clear_examples',{}).text"
   ]
  },
  {
   "cell_type": "code",
   "execution_count": 213,
   "id": "56ee8c3d-fae5-4abe-8858-918110338a7d",
   "metadata": {},
   "outputs": [
    {
     "data": {
      "text/plain": [
       "'Labels accepted'"
      ]
     },
     "execution_count": 213,
     "metadata": {},
     "output_type": "execute_result"
    }
   ],
   "source": [
    "response = app_call('set_labels',{'labels':['lion','tiger','elephant']})\n",
    "response.text"
   ]
  },
  {
   "cell_type": "code",
   "execution_count": 214,
   "id": "18dcd1c1-32bd-4d84-a8c1-e116dabea5c9",
   "metadata": {},
   "outputs": [
    {
     "data": {
      "text/plain": [
       "{'tiger': 0.6951355934143066,\n",
       " 'lion': 0.6889989972114563,\n",
       " 'elephant': 0.1538180708885193}"
      ]
     },
     "execution_count": 214,
     "metadata": {},
     "output_type": "execute_result"
    }
   ],
   "source": [
    "response = app_call('tag_ticket',{'ticket_text':'I like big cats'})\n",
    "response.json()"
   ]
  },
  {
   "cell_type": "code",
   "execution_count": 215,
   "id": "3af57869-2d66-4059-ac96-2ae8ef3ac016",
   "metadata": {},
   "outputs": [],
   "source": [
    "examples = [('This is a ticket about lions.', ['lion']), ('This is a ticket about tigers.',['tiger']), ('This is a ticket about an elephant.',['elephant'])]"
   ]
  },
  {
   "cell_type": "code",
   "execution_count": 216,
   "id": "d5220606-6f9d-456e-8279-5457685c5d17",
   "metadata": {},
   "outputs": [
    {
     "name": "stdout",
     "output_type": "stream",
     "text": [
      "Example accepted\n",
      "Example accepted\n",
      "Example accepted\n"
     ]
    }
   ],
   "source": [
    "for example in examples:\n",
    "    response = app_call('add_example', {'ticket_text':example[0], 'labels':example[1]})\n",
    "    print(response.text)"
   ]
  },
  {
   "cell_type": "code",
   "execution_count": 217,
   "id": "b02b754b-9cd8-4ff1-8d28-e1b59025a127",
   "metadata": {},
   "outputs": [
    {
     "data": {
      "text/plain": [
       "{'label_examples': {'tiger': 1, 'lion': 1, 'elephant': 1}, 'total_examples': 3}"
      ]
     },
     "execution_count": 217,
     "metadata": {},
     "output_type": "execute_result"
    }
   ],
   "source": [
    "response = app_call('count_examples', {})\n",
    "response.json()"
   ]
  },
  {
   "cell_type": "code",
   "execution_count": 218,
   "id": "5438e74e-8684-43d5-aa9d-d405ba45a726",
   "metadata": {},
   "outputs": [
    {
     "data": {
      "text/plain": [
       "{'status': 'UNSPECIALIZED'}"
      ]
     },
     "execution_count": 218,
     "metadata": {},
     "output_type": "execute_result"
    }
   ],
   "source": [
    "response = app_call('specialize_status', {})\n",
    "response.json()"
   ]
  },
  {
   "cell_type": "code",
   "execution_count": 219,
   "id": "841aed16-206a-4284-bc81-2350351a0877",
   "metadata": {},
   "outputs": [
    {
     "data": {
      "text/plain": [
       "'Removed 3 examples'"
      ]
     },
     "execution_count": 219,
     "metadata": {},
     "output_type": "execute_result"
    }
   ],
   "source": [
    "app_call('clear_examples',{}).text"
   ]
  },
  {
   "cell_type": "code",
   "execution_count": 220,
   "id": "ffa30d06-c17b-4fe6-bb64-bda32b77d158",
   "metadata": {},
   "outputs": [
    {
     "data": {
      "text/plain": [
       "2133"
      ]
     },
     "execution_count": 220,
     "metadata": {},
     "output_type": "execute_result"
    }
   ],
   "source": [
    "with open('test_data.json') as data_file:\n",
    "    data = json.load(data_file)\n",
    "    \n",
    "len(data)"
   ]
  },
  {
   "cell_type": "code",
   "execution_count": 221,
   "id": "49b65f4b-0e60-4d6c-8fb3-807d4ec55f45",
   "metadata": {},
   "outputs": [],
   "source": [
    "labels = list(set([label for row in data for label in row['tags']]))"
   ]
  },
  {
   "cell_type": "code",
   "execution_count": 222,
   "id": "6aacfbbc-57f4-4480-a960-0928c4dc691f",
   "metadata": {},
   "outputs": [
    {
     "data": {
      "text/plain": [
       "'Labels accepted'"
      ]
     },
     "execution_count": 222,
     "metadata": {},
     "output_type": "execute_result"
    }
   ],
   "source": [
    "response = app_call('set_labels',{'labels':labels})\n",
    "response.text"
   ]
  },
  {
   "cell_type": "code",
   "execution_count": 223,
   "id": "f58847a5-97b3-4324-a789-9bb938d4697d",
   "metadata": {},
   "outputs": [
    {
     "data": {
      "text/plain": [
       "{'login': 0.5004827976226807,\n",
       " 'system credit card redaction': 0.06164844334125517,\n",
       " 'redacted content': 0.07734347134828568,\n",
       " 'alerts acknowledged': 0.9112120270729065,\n",
       " 'how do i': 0.7680781483650208,\n",
       " 'integratons': 0.7087875008583069,\n",
       " 'scheduling': 0.06945476680994034,\n",
       " 'spam': 0.003957747947424652,\n",
       " 'people': 0.7233816385269165,\n",
       " 'n/a': 0.049051716923713684,\n",
       " 'ticket mapping/queues': 0.07419610023498532,\n",
       " 'self-served': 0.0029283713083714247,\n",
       " 'automations': 0.10863953828811646,\n",
       " 'needs review': 0.988425076007843,\n",
       " 'closed by merge': 0.00860019400715828,\n",
       " 'performance': 0.8535534143447876,\n",
       " 'security': 0.23934194445610046,\n",
       " 'api': 0.8333168625831604,\n",
       " 'web widget': 0.248447448015213,\n",
       " 'bug': 0.5133253335952759,\n",
       " 'inbound sales prospect': 0.24141883850097656,\n",
       " 'assembled action needed': 0.9657626152038574,\n",
       " 'feature request': 0.8226450681686401,\n",
       " 'alerts': 0.5230124592781067,\n",
       " 'why isn t this working': 0.6911829113960266,\n",
       " 'gcal': 0.6264333724975586,\n",
       " 'non-support question': 0.7193117737770081,\n",
       " 'forecasting and staffing': 0.013277530670166016,\n",
       " 'reports': 0.5989434719085693,\n",
       " 'billing': 0.14298178255558014,\n",
       " 'recruiting': 0.18673770129680634,\n",
       " 'time off': 0.06952527165412903,\n",
       " 'datadog alerts': 0.5168042778968811,\n",
       " 'datadog alerts support': 0.6092714071273804,\n",
       " 'adherence': 0.9868486523628235,\n",
       " 'not a support issue': 0.0005713420105166731,\n",
       " 'realtime overview': 0.21536551415920258,\n",
       " 'setting': 0.8402149081230164}"
      ]
     },
     "execution_count": 223,
     "metadata": {},
     "output_type": "execute_result"
    }
   ],
   "source": [
    "response = app_call('tag_ticket',{'ticket_text':data[0]['text']})\n",
    "response.json()"
   ]
  },
  {
   "cell_type": "code",
   "execution_count": 224,
   "id": "fe21d7c8-df09-4d44-8d93-dd25191c38e7",
   "metadata": {},
   "outputs": [],
   "source": [
    "top_10_tags = ['how do i',\n",
    " 'n/a',\n",
    " 'why isn t this working',\n",
    " 'not a support issue',\n",
    " 'datadog alerts support',\n",
    " 'datadog alerts',\n",
    " 'forecasting and staffing',\n",
    " 'scheduling',\n",
    " 'inbound sales prospect',\n",
    " 'people']"
   ]
  },
  {
   "cell_type": "code",
   "execution_count": 225,
   "id": "ef36839e-7eb6-40cc-b671-84b41dfb785e",
   "metadata": {},
   "outputs": [
    {
     "data": {
      "text/plain": [
       "'Labels accepted'"
      ]
     },
     "execution_count": 225,
     "metadata": {},
     "output_type": "execute_result"
    }
   ],
   "source": [
    "response = app_call('set_labels',{'labels':top_10_tags})\n",
    "response.text"
   ]
  },
  {
   "cell_type": "code",
   "execution_count": 226,
   "id": "2e5c0e70-541c-40c5-9c14-d52a0fccf72d",
   "metadata": {},
   "outputs": [],
   "source": [
    "top_tag_data = [dict(text=row['text'], tags=[tag for tag in row['tags'] if tag in top_10_tags]) for row in data] "
   ]
  },
  {
   "cell_type": "code",
   "execution_count": null,
   "id": "4765a524-cb4e-4266-b9dd-3e0dcd182aad",
   "metadata": {},
   "outputs": [],
   "source": [
    "for row in top_tag_data:\n",
    "    response = app_call('add_example', {'ticket_text':row['text'], 'labels':row['tags']})\n",
    "    "
   ]
  },
  {
   "cell_type": "code",
   "execution_count": 202,
   "id": "e637ca2e-5418-4969-a59f-b02c24ee9e9e",
   "metadata": {},
   "outputs": [
    {
     "data": {
      "text/plain": [
       "{'status': {'state': 'failed',\n",
       "  'statusMessage': 'connectionRequestTimeout. None',\n",
       "  'statusCode': 'InternalServerError'}}"
      ]
     },
     "execution_count": 202,
     "metadata": {},
     "output_type": "execute_result"
    }
   ],
   "source": [
    "response = app_call('count_examples', {})\n",
    "response.json()"
   ]
  },
  {
   "cell_type": "code",
   "execution_count": 203,
   "id": "f62efdf2-f52c-447a-bfcf-1482c26cdf15",
   "metadata": {},
   "outputs": [
    {
     "data": {
      "text/plain": [
       "'{\"status\":{\"state\":\"failed\",\"statusMessage\":\"Handler was unable to run app\\\\/plugin method POST \\\\/start_specialize. Handler was unable to run app\\\\/plugin method POST \\\\/start_specialize. \\'NoneType\\' object has no attribute \\'post\\'\"}}'"
      ]
     },
     "execution_count": 203,
     "metadata": {},
     "output_type": "execute_result"
    }
   ],
   "source": [
    "response = app_call('start_specialize',{})\n",
    "response.text"
   ]
  },
  {
   "cell_type": "code",
   "execution_count": 204,
   "id": "3c721d62-614f-4193-9a19-82b2f71d832e",
   "metadata": {},
   "outputs": [
    {
     "data": {
      "text/plain": [
       "{'status': {'state': 'failed',\n",
       "  'statusMessage': 'connectionRequestTimeout. None',\n",
       "  'statusCode': 'InternalServerError'}}"
      ]
     },
     "execution_count": 204,
     "metadata": {},
     "output_type": "execute_result"
    }
   ],
   "source": [
    "response = app_call('specialize_status', {})\n",
    "response.json()"
   ]
  },
  {
   "cell_type": "code",
   "execution_count": 205,
   "id": "f5a6e318-457f-416d-b715-9f0e0db6d296",
   "metadata": {},
   "outputs": [
    {
     "data": {
      "text/plain": [
       "{'status': {'state': 'failed',\n",
       "  'statusMessage': \"Handler was unable to run app/plugin method POST /specialize_status. Handler was unable to run app/plugin method POST /specialize_status. 'NoneType' object has no attribute 'post'\"}}"
      ]
     },
     "execution_count": 205,
     "metadata": {},
     "output_type": "execute_result"
    }
   ],
   "source": [
    "# Now need to wait ~5 hours, or poll continuously\n",
    "response = app_call('specialize_status', {})\n",
    "response.json()"
   ]
  }
 ],
 "metadata": {
  "kernelspec": {
   "display_name": "Python 3 (ipykernel)",
   "language": "python",
   "name": "python3"
  },
  "language_info": {
   "codemirror_mode": {
    "name": "ipython",
    "version": 3
   },
   "file_extension": ".py",
   "mimetype": "text/x-python",
   "name": "python",
   "nbconvert_exporter": "python",
   "pygments_lexer": "ipython3",
   "version": "3.9.13"
  }
 },
 "nbformat": 4,
 "nbformat_minor": 5
}
