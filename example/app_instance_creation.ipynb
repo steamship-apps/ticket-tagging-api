{
 "cells": [
  {
   "cell_type": "code",
   "execution_count": 92,
   "id": "44c77f12-07e8-49fb-bad5-d7bec71ef240",
   "metadata": {},
   "outputs": [],
   "source": [
    "from steamship import App, AppInstance, Steamship, Space, File, PluginInstance"
   ]
  },
  {
   "cell_type": "code",
   "execution_count": 166,
   "outputs": [],
   "source": [
    "APP_HANDLE = \"ticket-tagging-api\"\n",
    "INSTANCE_HANDLE = \"ticket-tagging-api-20220630-zero-shot\""
   ],
   "metadata": {
    "collapsed": false,
    "pycharm": {
     "name": "#%%\n"
    }
   }
  },
  {
   "cell_type": "code",
   "execution_count": 167,
   "outputs": [],
   "source": [
    "api_key=\"CHANGEME\""
   ],
   "metadata": {
    "collapsed": false,
    "pycharm": {
     "name": "#%%\n"
    }
   }
  },
  {
   "cell_type": "code",
   "execution_count": 138,
   "id": "ad6927a0-a203-454a-8dbf-bdedc4eb31df",
   "metadata": {},
   "outputs": [],
   "source": [
    "# Please fill in the API key below\n",
    "client = Steamship(api_key=api_key)"
   ]
  },
  {
   "cell_type": "code",
   "execution_count": 139,
   "id": "5bd88a42-8152-4dba-aa33-f9c4d148f153",
   "metadata": {},
   "outputs": [],
   "source": [
    "app = App.get(client, handle=APP_HANDLE).data"
   ]
  },
  {
   "cell_type": "code",
   "execution_count": 140,
   "id": "006d8fe9-3f5a-45a2-93cc-b55a6346ecce",
   "metadata": {},
   "outputs": [],
   "source": [
    "from steamship import AppVersion\n",
    "\n",
    "instance = AppInstance.create(\n",
    "    client,\n",
    "    handle=INSTANCE_HANDLE,\n",
    "    app_id=app.id,\n",
    "    upsert=True\n",
    ").data"
   ]
  },
  {
   "cell_type": "code",
   "execution_count": 144,
   "id": "72c75397-ef6f-4b5f-8200-ea605f033ece",
   "metadata": {},
   "outputs": [
    {
     "name": "stdout",
     "output_type": "stream",
     "text": [
      "Invocation URL\n",
      "https://ted.steamship.run/ticket-tagging-api-20220630-zero-shot/ticket-tagging-api-20220630-zero-shot/\n",
      "Instance ID\n",
      "F8AB7166-C83D-429C-815F-E2A9F0905119\n",
      "Version ID\n",
      "E1A9D1E6-5242-4C73-9F10-2B55126ECC78\n",
      "App ID\n",
      "BB53CAA6-96EE-4B21-B1C9-318A28A3D805\n"
     ]
    }
   ],
   "source": [
    "print(f\"Invocation URL\\n{instance.invocation_url}\")\n",
    "print(f\"Instance ID\\n{instance.id}\")\n",
    "print(f\"Version ID\\n{instance.app_version_id}\")\n",
    "print(f\"App ID\\n{instance.app_id}\")"
   ]
  },
  {
   "cell_type": "markdown",
   "source": [
    "# Example of creating an Instance over HTTP"
   ],
   "metadata": {
    "collapsed": false
   }
  },
  {
   "cell_type": "code",
   "execution_count": 147,
   "outputs": [],
   "source": [
    "import requests"
   ],
   "metadata": {
    "collapsed": false,
    "pycharm": {
     "name": "#%%\n"
    }
   }
  },
  {
   "cell_type": "code",
   "execution_count": 148,
   "outputs": [],
   "source": [
    "#The base_url for the Steamship app, from the other notebook\n",
    "base_url = 'https://api.steamship.com/api/v1/'"
   ],
   "metadata": {
    "collapsed": false,
    "pycharm": {
     "name": "#%%\n"
    }
   }
  },
  {
   "cell_type": "code",
   "execution_count": 149,
   "outputs": [],
   "source": [
    "headers = {\"Authorization\": f\"Bearer {api_key}\"}"
   ],
   "metadata": {
    "collapsed": false,
    "pycharm": {
     "name": "#%%\n"
    }
   }
  },
  {
   "cell_type": "code",
   "execution_count": 154,
   "outputs": [],
   "source": [
    "# Tiny wrapper for post calls of json data to the app.\n",
    "def app_call(route: str, parameters: dict):\n",
    "    return requests.post(base_url + route, headers=headers, json=parameters)"
   ],
   "metadata": {
    "collapsed": false,
    "pycharm": {
     "name": "#%%\n"
    }
   }
  },
  {
   "cell_type": "code",
   "execution_count": 162,
   "outputs": [],
   "source": [
    "from typing import Optional\n",
    "\n",
    "\n",
    "def create_instance(app_handle: str, instance_handle: str) -> Optional[str]:\n",
    "    resp = app_call('app/instance/create', {\"appHandle\": app_handle, \"handle\": instance_handle})\n",
    "    obj = resp.json()\n",
    "    if 'data' in obj and 'appInstance' in obj['data']:\n",
    "        return obj['data']['appInstance']['invocationURL']\n",
    "    else:\n",
    "        print(f\"Error - got response {obj}\")\n",
    "        return None\n"
   ],
   "metadata": {
    "collapsed": false,
    "pycharm": {
     "name": "#%%\n"
    }
   }
  },
  {
   "cell_type": "code",
   "execution_count": 164,
   "outputs": [
    {
     "data": {
      "text/plain": "'https://ted.steamship.run/fdfddoo/fdfddoo/'"
     },
     "execution_count": 164,
     "metadata": {},
     "output_type": "execute_result"
    }
   ],
   "source": [
    "create_instance(APP_HANDLE, \"FdFddOO\")"
   ],
   "metadata": {
    "collapsed": false,
    "pycharm": {
     "name": "#%%\n"
    }
   }
  },
  {
   "cell_type": "code",
   "execution_count": null,
   "outputs": [],
   "source": [],
   "metadata": {
    "collapsed": false,
    "pycharm": {
     "name": "#%%\n"
    }
   }
  }
 ],
 "metadata": {
  "kernelspec": {
   "display_name": "Python 3 (ipykernel)",
   "language": "python",
   "name": "python3"
  },
  "language_info": {
   "codemirror_mode": {
    "name": "ipython",
    "version": 3
   },
   "file_extension": ".py",
   "mimetype": "text/x-python",
   "name": "python",
   "nbconvert_exporter": "python",
   "pygments_lexer": "ipython3",
   "version": "3.9.13"
  }
 },
 "nbformat": 4,
 "nbformat_minor": 5
}