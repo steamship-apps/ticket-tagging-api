{
 "cells": [
  {
   "cell_type": "code",
   "execution_count": 10,
   "id": "44c77f12-07e8-49fb-bad5-d7bec71ef240",
   "metadata": {},
   "outputs": [],
   "source": [
    "from steamship import App, AppInstance, Steamship, Space, File, PluginInstance"
   ]
  },
  {
   "cell_type": "code",
   "execution_count": null,
   "id": "ad6927a0-a203-454a-8dbf-bdedc4eb31df",
   "metadata": {},
   "outputs": [],
   "source": [
    "client = Steamship()\n"
   ]
  },
  {
   "cell_type": "code",
   "execution_count": 12,
   "id": "5bd88a42-8152-4dba-aa33-f9c4d148f153",
   "metadata": {},
   "outputs": [],
   "source": [
    "app = App.get(client, handle='ticket-tagging-api').data"
   ]
  },
  {
   "cell_type": "code",
   "execution_count": null,
   "id": "006d8fe9-3f5a-45a2-93cc-b55a6346ecce",
   "metadata": {},
   "outputs": [],
   "source": [
    "instance = AppInstance.create(client, handle='ticket-tagging-api-20220616',app_id=app.id).data\n",
    "instance"
   ]
  },
  {
   "cell_type": "code",
   "execution_count": 14,
   "id": "72c75397-ef6f-4b5f-8200-ea605f033ece",
   "metadata": {},
   "outputs": [
    {
     "data": {
      "text/plain": [
       "'https://assembled.steamship.run/ticket-tagging-api-20220616/ticket-tagging-api-20220616/'"
      ]
     },
     "execution_count": 14,
     "metadata": {},
     "output_type": "execute_result"
    }
   ],
   "source": [
    "instance.invocation_url"
   ]
  },
  {
   "cell_type": "code",
   "execution_count": 15,
   "id": "209e2c69-52c5-4c15-abc2-e7cd1e29e791",
   "metadata": {},
   "outputs": [
    {
     "data": {
      "text/plain": [
       "'E1EC72C0-882C-4A5A-93B8-A48CB801F55E'"
      ]
     },
     "execution_count": 15,
     "metadata": {},
     "output_type": "execute_result"
    }
   ],
   "source": [
    "instance.space_id"
   ]
  }
 ],
 "metadata": {
  "kernelspec": {
   "display_name": "Python 3 (ipykernel)",
   "language": "python",
   "name": "python3"
  },
  "language_info": {
   "codemirror_mode": {
    "name": "ipython",
    "version": 3
   },
   "file_extension": ".py",
   "mimetype": "text/x-python",
   "name": "python",
   "nbconvert_exporter": "python",
   "pygments_lexer": "ipython3",
   "version": "3.9.13"
  }
 },
 "nbformat": 4,
 "nbformat_minor": 5
}
