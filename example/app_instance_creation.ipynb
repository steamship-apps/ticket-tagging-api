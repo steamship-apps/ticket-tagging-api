{
 "cells": [
  {
   "cell_type": "code",
   "execution_count": 25,
   "id": "4594d69f",
   "metadata": {
    "pycharm": {
     "name": "#%%\n"
    }
   },
   "outputs": [],
   "source": [
    "from steamship import App, AppInstance, Steamship, Space, File, PluginInstance, SteamshipError"
   ]
  },
  {
   "cell_type": "code",
   "execution_count": 32,
   "id": "d76550f9",
   "metadata": {
    "pycharm": {
     "name": "#%%\n"
    }
   },
   "outputs": [],
   "source": [
    "APP_HANDLE = \"ticket-tagging-api\"\n",
    "INSTANCE_HANDLE = \"ticket-tagging-api-20220720-zero-shot-b\""
   ]
  },
  {
   "cell_type": "code",
   "execution_count": 39,
   "id": "43416661",
   "metadata": {
    "pycharm": {
     "name": "#%%\n"
    }
   },
   "outputs": [],
   "source": [
    "api_key=\"\""
   ]
  },
  {
   "cell_type": "code",
   "execution_count": 40,
   "id": "f68674bc",
   "metadata": {
    "pycharm": {
     "name": "#%%\n"
    }
   },
   "outputs": [],
   "source": [
    "# Please fill in the API key below\n",
    "client = Steamship(api_key=api_key)"
   ]
  },
  {
   "cell_type": "code",
   "execution_count": 35,
   "id": "9f745921",
   "metadata": {
    "pycharm": {
     "name": "#%%\n"
    }
   },
   "outputs": [],
   "source": [
    "app = App.get(client, handle=APP_HANDLE).data"
   ]
  },
  {
   "cell_type": "code",
   "execution_count": 36,
   "id": "c2d3526b",
   "metadata": {
    "pycharm": {
     "name": "#%%\n"
    }
   },
   "outputs": [],
   "source": [
    "instance = AppInstance.create(\n",
    "    client,\n",
    "    handle=INSTANCE_HANDLE,\n",
    "    app_id=app.id,\n",
    "    upsert=True\n",
    ").data"
   ]
  },
  {
   "cell_type": "code",
   "execution_count": 37,
   "id": "0dbc73d9",
   "metadata": {
    "pycharm": {
     "name": "#%%\n"
    }
   },
   "outputs": [
    {
     "name": "stdout",
     "output_type": "stream",
     "text": [
      "Invocation URL\n",
      "https://assembled.steamship.run/default/ticket-tagging-api-20220720-zero-shot-b/\n",
      "Instance ID\n",
      "8A899319-D624-4B77-AE57-0AB2939AE407\n",
      "Version ID\n",
      "5D2E8A2D-4970-4B11-A342-E1FA12CA08CD\n",
      "App ID\n",
      "C8EF513B-1F9D-4B44-B463-39894F96AF29\n"
     ]
    }
   ],
   "source": [
    "print(f\"Invocation URL\\n{instance.invocation_url}\")\n",
    "print(f\"Instance ID\\n{instance.id}\")\n",
    "print(f\"Version ID\\n{instance.app_version_id}\")\n",
    "print(f\"App ID\\n{instance.app_id}\")"
   ]
  },
  {
   "cell_type": "markdown",
   "id": "f3e49142",
   "metadata": {},
   "source": [
    "# Example of creating an Instance over HTTP"
   ]
  },
  {
   "cell_type": "code",
   "execution_count": 38,
   "id": "791f02f8",
   "metadata": {
    "pycharm": {
     "name": "#%%\n"
    }
   },
   "outputs": [],
   "source": [
    "import requests"
   ]
  },
  {
   "cell_type": "code",
   "execution_count": null,
   "id": "a8a1fef4",
   "metadata": {
    "pycharm": {
     "name": "#%%\n"
    }
   },
   "outputs": [],
   "source": [
    "#The base_url for the Steamship app, from the other notebook\n",
    "base_url = 'https://api.steamship.com/api/v1/'"
   ]
  },
  {
   "cell_type": "code",
   "execution_count": null,
   "id": "3f613325",
   "metadata": {
    "pycharm": {
     "name": "#%%\n"
    }
   },
   "outputs": [],
   "source": [
    "headers = {\"Authorization\": f\"Bearer {api_key}\"}"
   ]
  },
  {
   "cell_type": "code",
   "execution_count": null,
   "id": "bfbb1690",
   "metadata": {
    "pycharm": {
     "name": "#%%\n"
    }
   },
   "outputs": [],
   "source": [
    "# Tiny wrapper for post calls of json data to the app.\n",
    "def app_call(route: str, parameters: dict):\n",
    "    return requests.post(base_url + route, headers=headers, json=parameters)"
   ]
  },
  {
   "cell_type": "code",
   "execution_count": null,
   "id": "3e881fd9",
   "metadata": {
    "pycharm": {
     "name": "#%%\n"
    }
   },
   "outputs": [],
   "source": [
    "from typing import Optional\n",
    "\n",
    "\n",
    "def create_instance(app_handle: str, instance_handle: str) -> Optional[str]:\n",
    "    resp = app_call('app/instance/create', {\"appHandle\": app_handle, \"handle\": instance_handle})\n",
    "    obj = resp.json()\n",
    "    if 'data' in obj and 'appInstance' in obj['data']:\n",
    "        return obj['data']['appInstance']['invocationURL']\n",
    "    else:\n",
    "        print(f\"Error - got response {obj}\")\n",
    "        return None\n"
   ]
  },
  {
   "cell_type": "code",
   "execution_count": null,
   "id": "086d0e3a",
   "metadata": {
    "pycharm": {
     "name": "#%%\n"
    }
   },
   "outputs": [],
   "source": [
    "create_instance(APP_HANDLE, \"FdFddOO\")"
   ]
  },
  {
   "cell_type": "code",
   "execution_count": null,
   "id": "bc78bb6b",
   "metadata": {
    "pycharm": {
     "name": "#%%\n"
    }
   },
   "outputs": [],
   "source": []
  }
 ],
 "metadata": {
  "kernelspec": {
   "display_name": "Python 3 (ipykernel)",
   "language": "python",
   "name": "python3"
  },
  "language_info": {
   "codemirror_mode": {
    "name": "ipython",
    "version": 3
   },
   "file_extension": ".py",
   "mimetype": "text/x-python",
   "name": "python",
   "nbconvert_exporter": "python",
   "pygments_lexer": "ipython3",
   "version": "3.9.10"
  }
 },
 "nbformat": 4,
 "nbformat_minor": 5
}