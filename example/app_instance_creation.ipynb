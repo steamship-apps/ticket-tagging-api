{
 "cells": [
  {
   "cell_type": "code",
   "execution_count": 108,
   "id": "44c77f12-07e8-49fb-bad5-d7bec71ef240",
   "metadata": {},
   "outputs": [],
   "source": [
    "from steamship import App, AppInstance, Steamship, Space, File"
   ]
  },
  {
   "cell_type": "code",
   "execution_count": 109,
   "id": "ad6927a0-a203-454a-8dbf-bdedc4eb31df",
   "metadata": {},
   "outputs": [
    {
     "data": {
      "text/plain": [
       "'CHANGEME'"
      ]
     },
     "execution_count": 109,
     "metadata": {},
     "output_type": "execute_result"
    }
   ],
   "source": [
    "client = Steamship()\n",
    "client.config.api_key"
   ]
  },
  {
   "cell_type": "code",
   "execution_count": 110,
   "id": "5bd88a42-8152-4dba-aa33-f9c4d148f153",
   "metadata": {},
   "outputs": [],
   "source": [
    "app = App.get(client, handle='ticket-tagging-api').data"
   ]
  },
  {
   "cell_type": "code",
   "execution_count": 111,
   "id": "006d8fe9-3f5a-45a2-93cc-b55a6346ecce",
   "metadata": {},
   "outputs": [
    {
     "data": {
      "text/plain": [
       "AppInstance(client=Steamship(config=Configuration(api_key='CHANGEME', api_base='http://host.docker.internal:8080/api/v1/', app_base='http://host.docker.internal:8081', web_base='https://app.steamship.com/', space_id=None, space_handle=None, profile=None), tasks=Tasks()), id='14FC6ABA-F020-4C1E-BA54-1B6FD543B459', handle='ticket-tagging-api-20220613', app_id='485AAAAD-CF39-4C96-AAD1-CDDD2F6DB474', app_handle=None, user_handle='dev', app_version_id='49EC3270-B6EA-48A4-B357-819ACE0D3995', user_id='2FA3E17B-D5B4-46A3-BF4E-12E313FC996A', invocation_url='http://host.docker.internal:8081/@dev/ticket-tagging-api-20220613/ticket-tagging-api-20220613/', config={'save_classifications': True}, space_id='93287398-ED69-469E-A8BB-AF6F86A822DF', space_handle=None)"
      ]
     },
     "execution_count": 111,
     "metadata": {},
     "output_type": "execute_result"
    }
   ],
   "source": [
    "instance = AppInstance.create(client, handle='ticket-tagging-api-20220613',app_id=app.id).data\n",
    "instance"
   ]
  },
  {
   "cell_type": "code",
   "execution_count": 112,
   "id": "72c75397-ef6f-4b5f-8200-ea605f033ece",
   "metadata": {},
   "outputs": [
    {
     "data": {
      "text/plain": [
       "'http://host.docker.internal:8081/@dev/ticket-tagging-api-20220613/ticket-tagging-api-20220613/'"
      ]
     },
     "execution_count": 112,
     "metadata": {},
     "output_type": "execute_result"
    }
   ],
   "source": [
    "instance.invocation_url"
   ]
  },
  {
   "cell_type": "code",
   "execution_count": 113,
   "id": "209e2c69-52c5-4c15-abc2-e7cd1e29e791",
   "metadata": {},
   "outputs": [
    {
     "data": {
      "text/plain": [
       "'93287398-ED69-469E-A8BB-AF6F86A822DF'"
      ]
     },
     "execution_count": 113,
     "metadata": {},
     "output_type": "execute_result"
    }
   ],
   "source": [
    "instance.space_id"
   ]
  }
 ],
 "metadata": {
  "kernelspec": {
   "display_name": "Python 3 (ipykernel)",
   "language": "python",
   "name": "python3"
  },
  "language_info": {
   "codemirror_mode": {
    "name": "ipython",
    "version": 3
   },
   "file_extension": ".py",
   "mimetype": "text/x-python",
   "name": "python",
   "nbconvert_exporter": "python",
   "pygments_lexer": "ipython3",
   "version": "3.9.13"
  }
 },
 "nbformat": 4,
 "nbformat_minor": 5
}
