{
 "cells": [
  {
   "cell_type": "code",
   "execution_count": 33,
   "id": "44c77f12-07e8-49fb-bad5-d7bec71ef240",
   "metadata": {},
   "outputs": [],
   "source": [
    "from steamship import App, AppInstance, Steamship, Space, File, PluginInstance"
   ]
  },
  {
   "cell_type": "code",
   "execution_count": 34,
   "outputs": [],
   "source": [
    "APP_HANDLE = \"ticket-tagging-api\""
   ],
   "metadata": {
    "collapsed": false,
    "pycharm": {
     "name": "#%%\n"
    }
   }
  },
  {
   "cell_type": "code",
   "execution_count": 35,
   "id": "ad6927a0-a203-454a-8dbf-bdedc4eb31df",
   "metadata": {},
   "outputs": [],
   "source": [
    "# Please fill in the API key below\n",
    "client = Steamship(\n",
    "    api_key=\"\"\n",
    ")"
   ]
  },
  {
   "cell_type": "code",
   "execution_count": 37,
   "id": "5bd88a42-8152-4dba-aa33-f9c4d148f153",
   "metadata": {},
   "outputs": [],
   "source": [
    "app = App.get(client, handle=APP_HANDLE).data"
   ]
  },
  {
   "cell_type": "code",
   "execution_count": 38,
   "id": "006d8fe9-3f5a-45a2-93cc-b55a6346ecce",
   "metadata": {},
   "outputs": [
    {
     "data": {
      "text/plain": "AppInstance(client=Steamship(config=Configuration(api_key='97A005D2-2CBB-422D-8E08-043596349DCA', api_base='https://api.steamship.com/api/v1/', app_base='https://steamship.run/', web_base='https://app.steamship.com/', space_id=None, space_handle=None, profile=None)), id='AFEF75C7-EF28-482B-A2EF-5BB3D7397C71', handle='ticket-tagging-api-20220626', app_id='C8EF513B-1F9D-4B44-B463-39894F96AF29', app_handle=None, user_handle='assembled', app_version_id='BE7FEED3-1C5C-433D-870C-EAB0F9C46242', user_id='21D64B1E-2C9D-4683-8E35-462B0C557A83', invocation_url='https://assembled.steamship.run/ticket-tagging-api-20220626/ticket-tagging-api-20220626/', config={'save_classifications': True}, space_id='03BEC3CA-15F6-4741-A993-3C22D052BCD4', space_handle=None)"
     },
     "execution_count": 38,
     "metadata": {},
     "output_type": "execute_result"
    }
   ],
   "source": [
    "instance = AppInstance.create(client, handle='ticket-tagging-api-20220626',app_id=app.id).data\n",
    "instance"
   ]
  },
  {
   "cell_type": "code",
   "execution_count": 39,
   "id": "72c75397-ef6f-4b5f-8200-ea605f033ece",
   "metadata": {},
   "outputs": [
    {
     "name": "stdout",
     "output_type": "stream",
     "text": [
      "https://assembled.steamship.run/ticket-tagging-api-20220626/ticket-tagging-api-20220626/\n",
      "\n"
     ]
    }
   ],
   "source": [
    "print(instance.invocation_url)\n",
    "print(\"\")"
   ]
  },
  {
   "cell_type": "code",
   "execution_count": 9,
   "id": "209e2c69-52c5-4c15-abc2-e7cd1e29e791",
   "metadata": {},
   "outputs": [
    {
     "data": {
      "text/plain": "'1F85A641-8826-4693-9F15-C6A59DF8648E'"
     },
     "execution_count": 9,
     "metadata": {},
     "output_type": "execute_result"
    }
   ],
   "source": [
    "instance.space_id"
   ]
  },
  {
   "cell_type": "code",
   "execution_count": null,
   "outputs": [],
   "source": [],
   "metadata": {
    "collapsed": false,
    "pycharm": {
     "name": "#%%\n"
    }
   }
  }
 ],
 "metadata": {
  "kernelspec": {
   "display_name": "Python 3 (ipykernel)",
   "language": "python",
   "name": "python3"
  },
  "language_info": {
   "codemirror_mode": {
    "name": "ipython",
    "version": 3
   },
   "file_extension": ".py",
   "mimetype": "text/x-python",
   "name": "python",
   "nbconvert_exporter": "python",
   "pygments_lexer": "ipython3",
   "version": "3.9.13"
  }
 },
 "nbformat": 4,
 "nbformat_minor": 5
}