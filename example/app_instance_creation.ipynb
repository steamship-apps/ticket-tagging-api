{
 "cells": [
  {
   "cell_type": "code",
   "execution_count": 40,
   "id": "44c77f12-07e8-49fb-bad5-d7bec71ef240",
   "metadata": {},
   "outputs": [],
   "source": [
    "from steamship import App, AppInstance, Steamship, Space, File, PluginInstance"
   ]
  },
  {
   "cell_type": "code",
   "execution_count": 41,
   "outputs": [],
   "source": [
    "APP_HANDLE = \"ticket-tagging-api\""
   ],
   "metadata": {
    "collapsed": false,
    "pycharm": {
     "name": "#%%\n"
    }
   }
  },
  {
   "cell_type": "code",
   "execution_count": 42,
   "id": "ad6927a0-a203-454a-8dbf-bdedc4eb31df",
   "metadata": {},
   "outputs": [],
   "source": [
    "# Please fill in the API key below\n",
    "client = Steamship(\n",
    "    api_key=\"96E24AF4-F906-4C57-A48C-D870FB704497\"\n",
    ")"
   ]
  },
  {
   "cell_type": "code",
   "execution_count": 37,
   "id": "5bd88a42-8152-4dba-aa33-f9c4d148f153",
   "metadata": {},
   "outputs": [],
   "source": [
    "app = App.get(client, handle=APP_HANDLE).data"
   ]
  },
  {
   "cell_type": "code",
   "execution_count": 38,
   "id": "006d8fe9-3f5a-45a2-93cc-b55a6346ecce",
   "metadata": {},
   "outputs": [
    {
     "data": {
      "text/plain": "AppInstance(client=Steamship(config=Configuration(api_key='97A005D2-2CBB-422D-8E08-043596349DCA', api_base='https://api.steamship.com/api/v1/', app_base='https://steamship.run/', web_base='https://app.steamship.com/', space_id=None, space_handle=None, profile=None)), id='AFEF75C7-EF28-482B-A2EF-5BB3D7397C71', handle='ticket-tagging-api-20220626', app_id='C8EF513B-1F9D-4B44-B463-39894F96AF29', app_handle=None, user_handle='assembled', app_version_id='BE7FEED3-1C5C-433D-870C-EAB0F9C46242', user_id='21D64B1E-2C9D-4683-8E35-462B0C557A83', invocation_url='https://assembled.steamship.run/ticket-tagging-api-20220626/ticket-tagging-api-20220626/', config={'save_classifications': True}, space_id='03BEC3CA-15F6-4741-A993-3C22D052BCD4', space_handle=None)"
     },
     "execution_count": 38,
     "metadata": {},
     "output_type": "execute_result"
    }
   ],
   "source": [
    "instance = AppInstance.create(client, handle='ticket-tagging-api-20220626',app_id=app.id).data\n",
    "instance"
   ]
  },
  {
   "cell_type": "code",
   "execution_count": 39,
   "id": "72c75397-ef6f-4b5f-8200-ea605f033ece",
   "metadata": {},
   "outputs": [
    {
     "name": "stdout",
     "output_type": "stream",
     "text": [
      "https://assembled.steamship.run/ticket-tagging-api-20220626/ticket-tagging-api-20220626/\n",
      "\n"
     ]
    }
   ],
   "source": [
    "print(instance.invocation_url)\n",
    "print(\"\")"
   ]
  },
  {
   "cell_type": "code",
   "execution_count": 9,
   "id": "209e2c69-52c5-4c15-abc2-e7cd1e29e791",
   "metadata": {},
   "outputs": [
    {
     "data": {
      "text/plain": "'1F85A641-8826-4693-9F15-C6A59DF8648E'"
     },
     "execution_count": 9,
     "metadata": {},
     "output_type": "execute_result"
    }
   ],
   "source": [
    "instance.space_id"
   ]
  },
  {
   "cell_type": "code",
   "execution_count": 45,
   "outputs": [],
   "source": [
    "# Test Specialization Status\n",
    "SPECIAL_FILE = \"specialization_status\""
   ],
   "metadata": {
    "collapsed": false,
    "pycharm": {
     "name": "#%%\n"
    }
   }
  },
  {
   "cell_type": "code",
   "execution_count": 46,
   "outputs": [
    {
     "name": "stderr",
     "output_type": "stream",
     "text": [
      "ERROR:root:Client received error from server: [ObjectNotFound]\n",
      "Unable to find object id=? handle=specialization_status\n"
     ]
    },
    {
     "ename": "SteamshipError",
     "evalue": "[ObjectNotFound]\nUnable to find object id=? handle=specialization_status",
     "output_type": "error",
     "traceback": [
      "\u001B[0;31m---------------------------------------------------------------------------\u001B[0m",
      "\u001B[0;31mSteamshipError\u001B[0m                            Traceback (most recent call last)",
      "Input \u001B[0;32mIn [46]\u001B[0m, in \u001B[0;36m<cell line: 1>\u001B[0;34m()\u001B[0m\n\u001B[0;32m----> 1\u001B[0m \u001B[43mFile\u001B[49m\u001B[38;5;241;43m.\u001B[39;49m\u001B[43mget\u001B[49m\u001B[43m(\u001B[49m\u001B[43mclient\u001B[49m\u001B[43m,\u001B[49m\u001B[43m \u001B[49m\u001B[43mhandle\u001B[49m\u001B[38;5;241;43m=\u001B[39;49m\u001B[43mSPECIAL_FILE\u001B[49m\u001B[43m)\u001B[49m\u001B[38;5;241;43m.\u001B[39;49m\u001B[43mdata\u001B[49m\n",
      "File \u001B[0;32m~/steamship-apps/ticket-tagging-api/.venv/lib/python3.9/site-packages/steamship/base/response.py:30\u001B[0m, in \u001B[0;36mResponse.data\u001B[0;34m(self)\u001B[0m\n\u001B[1;32m     27\u001B[0m \u001B[38;5;129m@property\u001B[39m\n\u001B[1;32m     28\u001B[0m \u001B[38;5;28;01mdef\u001B[39;00m \u001B[38;5;21mdata\u001B[39m(\u001B[38;5;28mself\u001B[39m):\n\u001B[1;32m     29\u001B[0m     \u001B[38;5;28;01mif\u001B[39;00m \u001B[38;5;28mself\u001B[39m\u001B[38;5;241m.\u001B[39merror:\n\u001B[0;32m---> 30\u001B[0m         \u001B[38;5;28;01mraise\u001B[39;00m \u001B[38;5;28mself\u001B[39m\u001B[38;5;241m.\u001B[39merror\n\u001B[1;32m     31\u001B[0m     \u001B[38;5;28;01mif\u001B[39;00m \u001B[38;5;28mself\u001B[39m\u001B[38;5;241m.\u001B[39mtask \u001B[38;5;129;01mis\u001B[39;00m \u001B[38;5;129;01mnot\u001B[39;00m \u001B[38;5;28;01mNone\u001B[39;00m:\n\u001B[1;32m     32\u001B[0m         \u001B[38;5;28;01mif\u001B[39;00m \u001B[38;5;28mself\u001B[39m\u001B[38;5;241m.\u001B[39mtask\u001B[38;5;241m.\u001B[39mstate \u001B[38;5;241m==\u001B[39m TaskState\u001B[38;5;241m.\u001B[39mfailed:\n",
      "\u001B[0;31mSteamshipError\u001B[0m: [ObjectNotFound]\nUnable to find object id=? handle=specialization_status"
     ]
    }
   ],
   "source": [
    "from steamship import Block, Tag\n",
    "from typing import Optional, Dict\n",
    "\n",
    "SPECIALIZATION_STATUS_KIND = 'specialization_status'\n",
    "SPECIALIZATION_STATUS_TRAINING = 'training'\n",
    "\n",
    "def _get_status_file(client, create_if_none: bool = False, status: str = None, response_dict: Optional[Dict] = None) -> Optional[File]:\n",
    "    \"\"\"The status file contains\"\"\"\n",
    "    status_files = File.query(client, 'filetag and kind \"specialization_status\"').data.files\n",
    "    if len(status_files) == 0:\n",
    "        if create_if_none:\n",
    "            File.create(\n",
    "                client,\n",
    "                blocks=[Block.CreateRequest(text='')],\n",
    "                tags=[Tag.CreateRequest(kind=SPECIALIZATION_STATUS_KIND, name='', value={'response':response_dict, 'status': status})])\n",
    "        return None\n",
    "    else:\n",
    "        return status_files[0]\n",
    "\n",
    "def _set_status(client: Steamship, file: )"
   ],
   "metadata": {
    "collapsed": false,
    "pycharm": {
     "name": "#%%\n"
    }
   }
  },
  {
   "cell_type": "code",
   "execution_count": 50,
   "outputs": [],
   "source": [],
   "metadata": {
    "collapsed": false,
    "pycharm": {
     "name": "#%%\n"
    }
   }
  },
  {
   "cell_type": "code",
   "execution_count": 51,
   "outputs": [
    {
     "data": {
      "text/plain": "'hearty-frog-0n6ix'"
     },
     "execution_count": 51,
     "metadata": {},
     "output_type": "execute_result"
    }
   ],
   "source": [],
   "metadata": {
    "collapsed": false,
    "pycharm": {
     "name": "#%%\n"
    }
   }
  },
  {
   "cell_type": "code",
   "execution_count": null,
   "outputs": [],
   "source": [],
   "metadata": {
    "collapsed": false,
    "pycharm": {
     "name": "#%%\n"
    }
   }
  }
 ],
 "metadata": {
  "kernelspec": {
   "display_name": "Python 3 (ipykernel)",
   "language": "python",
   "name": "python3"
  },
  "language_info": {
   "codemirror_mode": {
    "name": "ipython",
    "version": 3
   },
   "file_extension": ".py",
   "mimetype": "text/x-python",
   "name": "python",
   "nbconvert_exporter": "python",
   "pygments_lexer": "ipython3",
   "version": "3.9.13"
  }
 },
 "nbformat": 4,
 "nbformat_minor": 5
}